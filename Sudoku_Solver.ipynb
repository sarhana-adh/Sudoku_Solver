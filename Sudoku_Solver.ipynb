{
  "nbformat": 4,
  "nbformat_minor": 0,
  "metadata": {
    "colab": {
      "name": "Sudoku_Solver.ipynb",
      "provenance": [],
      "collapsed_sections": [],
      "authorship_tag": "ABX9TyPoKQNfIkCtK8a1VNJCIhue",
      "include_colab_link": true
    },
    "kernelspec": {
      "name": "python3",
      "display_name": "Python 3"
    },
    "language_info": {
      "name": "python"
    }
  },
  "cells": [
    {
      "cell_type": "markdown",
      "metadata": {
        "id": "view-in-github",
        "colab_type": "text"
      },
      "source": [
        "<a href=\"https://colab.research.google.com/github/sarhana-adh/Sudoku_Solver/blob/main/Sudoku_Solver.ipynb\" target=\"_parent\"><img src=\"https://colab.research.google.com/assets/colab-badge.svg\" alt=\"Open In Colab\"/></a>"
      ]
    },
    {
      "cell_type": "code",
      "execution_count": 13,
      "metadata": {
        "colab": {
          "base_uri": "https://localhost:8080/"
        },
        "id": "7ADaulqvY2xz",
        "outputId": "f444b4aa-9860-4557-86f9-9fecc2e70fef"
      },
      "outputs": [
        {
          "output_type": "stream",
          "name": "stdout",
          "text": [
            "3 0 6 |5 0 8 |4 0 0 |\n",
            "5 2 0 |0 0 0 |0 0 0 |\n",
            "\u001b[4m0\u001b[0m \u001b[4m8\u001b[0m \u001b[4m7\u001b[0m |\u001b[4m0\u001b[0m \u001b[4m0\u001b[0m \u001b[4m0\u001b[0m |\u001b[4m0\u001b[0m \u001b[4m3\u001b[0m \u001b[4m1\u001b[0m |\n",
            "0 0 3 |0 1 0 |0 8 0 |\n",
            "9 0 0 |8 6 3 |0 0 5 |\n",
            "\u001b[4m0\u001b[0m \u001b[4m5\u001b[0m \u001b[4m0\u001b[0m |\u001b[4m0\u001b[0m \u001b[4m9\u001b[0m \u001b[4m0\u001b[0m |\u001b[4m6\u001b[0m \u001b[4m0\u001b[0m \u001b[4m0\u001b[0m |\n",
            "1 3 0 |0 0 0 |2 5 0 |\n",
            "0 0 0 |0 0 0 |0 7 4 |\n",
            "\u001b[4m0\u001b[0m \u001b[4m0\u001b[0m \u001b[4m5\u001b[0m |\u001b[4m2\u001b[0m \u001b[4m0\u001b[0m \u001b[4m6\u001b[0m |\u001b[4m3\u001b[0m \u001b[4m0\u001b[0m \u001b[4m0\u001b[0m |\n",
            "\n",
            "3 1 6 |5 7 8 |4 9 2 |\n",
            "5 2 9 |1 3 4 |7 6 8 |\n",
            "\u001b[4m4\u001b[0m \u001b[4m8\u001b[0m \u001b[4m7\u001b[0m |\u001b[4m6\u001b[0m \u001b[4m2\u001b[0m \u001b[4m9\u001b[0m |\u001b[4m5\u001b[0m \u001b[4m3\u001b[0m \u001b[4m1\u001b[0m |\n",
            "2 6 3 |4 1 5 |9 8 7 |\n",
            "9 7 4 |8 6 3 |1 2 5 |\n",
            "\u001b[4m8\u001b[0m \u001b[4m5\u001b[0m \u001b[4m1\u001b[0m |\u001b[4m7\u001b[0m \u001b[4m9\u001b[0m \u001b[4m2\u001b[0m |\u001b[4m6\u001b[0m \u001b[4m4\u001b[0m \u001b[4m3\u001b[0m |\n",
            "1 3 8 |9 4 7 |2 5 6 |\n",
            "6 9 2 |3 5 1 |8 7 4 |\n",
            "\u001b[4m7\u001b[0m \u001b[4m4\u001b[0m \u001b[4m5\u001b[0m |\u001b[4m2\u001b[0m \u001b[4m8\u001b[0m \u001b[4m6\u001b[0m |\u001b[4m3\u001b[0m \u001b[4m1\u001b[0m \u001b[4m9\u001b[0m |\n"
          ]
        },
        {
          "output_type": "execute_result",
          "data": {
            "text/plain": [
              "False"
            ]
          },
          "metadata": {},
          "execution_count": 13
        }
      ],
      "source": [
        "import math\n",
        "Dim=9\n",
        "def printPuzzle(a):\n",
        "  for row in range(Dim):\n",
        "    for column in range(Dim):\n",
        "      if((row+1)%3!=0):\n",
        "        print(a[row][column], end=\" \")\n",
        "      else:\n",
        "        print(\"\\033[4m\" + str(a[row][column]) + \"\\033[0m\", end=\" \")\n",
        "      if((((column+1)%3)==0) ) : \n",
        "        print (\"|\", end=\"\")\n",
        "    print()\n",
        "\n",
        "grid =  [[3, 0, 6, 5, 0, 8, 4, 0, 0], \n",
        "         [5, 2, 0, 0, 0, 0, 0, 0, 0], \n",
        "         [0, 8, 7, 0, 0, 0, 0, 3, 1], \n",
        "         [0, 0, 3, 0, 1, 0, 0, 8, 0], \n",
        "         [9, 0, 0, 8, 6, 3, 0, 0, 5], \n",
        "         [0, 5, 0, 0, 9, 0, 6, 0, 0], \n",
        "         [1, 3, 0, 0, 0, 0, 2, 5, 0], \n",
        "         [0, 0, 0, 0, 0, 0, 0, 7, 4], \n",
        "         [0, 0, 5, 2, 0, 6, 3, 0, 0]]\n",
        "\n",
        "printPuzzle(grid)\n",
        "\n",
        "#find possibility of solutions try it.\n",
        "\n",
        "def possible(a, row, col, n):\n",
        "# check for the columns\n",
        "  for i in range(Dim):\n",
        "    if (a[row][i]==n): \n",
        "      return False\n",
        "#check for the rows \n",
        "  for j in range(Dim):\n",
        "    if (a[j][col]== n):\n",
        "      return False\n",
        "\n",
        "# find the start columns and rows of the box x and y belongs to \n",
        "  startRow= (int(row/3))*3\n",
        "  startCol= (int(col/3))*3\n",
        "#check for the boxes \n",
        "  for boxr in range(3):\n",
        "    for boxc in range(3):\n",
        "      if ((a[startRow+boxr][startCol+boxc])==n):\n",
        "        return False\n",
        "\n",
        "  return True #after testing everything \n",
        "\n",
        "\n",
        "def solve(a,ro,co):\n",
        "  if ((ro >= 8) & (co >=9)):\n",
        "    print(\"\\nPrinting is happening\\n\")\n",
        "    printPuzzle(a)\n",
        "    return True  # check for the end of the solved \n",
        "    \n",
        "  \n",
        "  else: # it runs through only if within range \n",
        "    if co==Dim: # reset row and column number as it is new row \n",
        "      ro=ro+1\n",
        "      co=0\n",
        "    if ((a[ro][co])==0): # try possible solutions only if it isn't filled\n",
        "      for sol in range(1,Dim+1,1):\n",
        "        if (possible(a,ro,co,sol)): # this will repeat for all solutions\n",
        "          a[ro][co]=sol # the problem is will it backtrack as this turns out to not be the solution I need \n",
        "          if (ro!=8 or co!=8):\n",
        "            if solve(a,ro,co+1): #reiteration for next one when previous one is alright give solution\n",
        "                return True\n",
        "          if (ro==8 and co==8):\n",
        "            print()\n",
        "            printPuzzle(a)\n",
        "            return True \n",
        "          a[ro][co]=0 # the assumption is backtracked \n",
        "    else: # prompts to next empty one \n",
        "      solve(a,ro,co+1)\n",
        "\n",
        "  return False \n",
        "\n",
        "\n",
        "\n",
        "solve(grid,0,0)\n",
        "\n",
        "\n",
        "\n",
        "\n",
        "  \n",
        "        \n"
      ]
    },
    {
      "cell_type": "markdown",
      "source": [
        ""
      ],
      "metadata": {
        "id": "PpwHqsTFlTpv"
      }
    }
  ]
}